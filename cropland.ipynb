{
 "cells": [
  {
   "cell_type": "code",
   "execution_count": 1,
   "id": "c6681392",
   "metadata": {},
   "outputs": [],
   "source": [
    "import numpy as np\n",
    "import pandas as pd\n",
    "import matplotlib.pyplot as plt\n",
    "import seaborn as sns"
   ]
  },
  {
   "cell_type": "markdown",
   "id": "6e985afa",
   "metadata": {},
   "source": [
    "# Exploratory data analysis and preprocessing"
   ]
  },
  {
   "cell_type": "code",
   "execution_count": 2,
   "id": "9d80bce3",
   "metadata": {},
   "outputs": [
    {
     "data": {
      "text/html": [
       "<div>\n",
       "<style scoped>\n",
       "    .dataframe tbody tr th:only-of-type {\n",
       "        vertical-align: middle;\n",
       "    }\n",
       "\n",
       "    .dataframe tbody tr th {\n",
       "        vertical-align: top;\n",
       "    }\n",
       "\n",
       "    .dataframe thead th {\n",
       "        text-align: right;\n",
       "    }\n",
       "</style>\n",
       "<table border=\"1\" class=\"dataframe\">\n",
       "  <thead>\n",
       "    <tr style=\"text-align: right;\">\n",
       "      <th></th>\n",
       "      <th>label</th>\n",
       "      <th>f1</th>\n",
       "      <th>f2</th>\n",
       "      <th>f3</th>\n",
       "      <th>f4</th>\n",
       "      <th>f5</th>\n",
       "      <th>f6</th>\n",
       "      <th>f7</th>\n",
       "      <th>f8</th>\n",
       "      <th>f9</th>\n",
       "      <th>...</th>\n",
       "      <th>f165</th>\n",
       "      <th>f166</th>\n",
       "      <th>f167</th>\n",
       "      <th>f168</th>\n",
       "      <th>f169</th>\n",
       "      <th>f170</th>\n",
       "      <th>f171</th>\n",
       "      <th>f172</th>\n",
       "      <th>f173</th>\n",
       "      <th>f174</th>\n",
       "    </tr>\n",
       "  </thead>\n",
       "  <tbody>\n",
       "    <tr>\n",
       "      <th>0</th>\n",
       "      <td>1</td>\n",
       "      <td>-13.559</td>\n",
       "      <td>-21.407</td>\n",
       "      <td>-11.4040</td>\n",
       "      <td>-15.248</td>\n",
       "      <td>-11.923</td>\n",
       "      <td>-15.291</td>\n",
       "      <td>-2.1548</td>\n",
       "      <td>-7.8474</td>\n",
       "      <td>-10.0020</td>\n",
       "      <td>...</td>\n",
       "      <td>0.18519</td>\n",
       "      <td>0.72602</td>\n",
       "      <td>5.3333</td>\n",
       "      <td>6.000000</td>\n",
       "      <td>0.29489</td>\n",
       "      <td>9.77780</td>\n",
       "      <td>2.44440</td>\n",
       "      <td>1.67700</td>\n",
       "      <td>0.20988</td>\n",
       "      <td>0.65422</td>\n",
       "    </tr>\n",
       "    <tr>\n",
       "      <th>1</th>\n",
       "      <td>1</td>\n",
       "      <td>-12.802</td>\n",
       "      <td>-20.335</td>\n",
       "      <td>-10.3990</td>\n",
       "      <td>-14.132</td>\n",
       "      <td>-11.096</td>\n",
       "      <td>-14.361</td>\n",
       "      <td>-2.4039</td>\n",
       "      <td>-7.5330</td>\n",
       "      <td>-9.9369</td>\n",
       "      <td>...</td>\n",
       "      <td>0.33333</td>\n",
       "      <td>-0.48751</td>\n",
       "      <td>2.1111</td>\n",
       "      <td>0.098765</td>\n",
       "      <td>0.83333</td>\n",
       "      <td>0.33333</td>\n",
       "      <td>0.33333</td>\n",
       "      <td>0.84869</td>\n",
       "      <td>0.50617</td>\n",
       "      <td>-0.18898</td>\n",
       "    </tr>\n",
       "    <tr>\n",
       "      <th>2</th>\n",
       "      <td>1</td>\n",
       "      <td>-12.431</td>\n",
       "      <td>-19.902</td>\n",
       "      <td>-10.0740</td>\n",
       "      <td>-13.598</td>\n",
       "      <td>-10.829</td>\n",
       "      <td>-14.048</td>\n",
       "      <td>-2.3566</td>\n",
       "      <td>-7.4717</td>\n",
       "      <td>-9.8283</td>\n",
       "      <td>...</td>\n",
       "      <td>0.25926</td>\n",
       "      <td>0.25298</td>\n",
       "      <td>2.2222</td>\n",
       "      <td>0.172840</td>\n",
       "      <td>0.68889</td>\n",
       "      <td>0.88889</td>\n",
       "      <td>0.66667</td>\n",
       "      <td>1.27300</td>\n",
       "      <td>0.30864</td>\n",
       "      <td>0.10483</td>\n",
       "    </tr>\n",
       "    <tr>\n",
       "      <th>3</th>\n",
       "      <td>1</td>\n",
       "      <td>-12.689</td>\n",
       "      <td>-19.529</td>\n",
       "      <td>-10.0280</td>\n",
       "      <td>-13.350</td>\n",
       "      <td>-11.056</td>\n",
       "      <td>-14.014</td>\n",
       "      <td>-2.6611</td>\n",
       "      <td>-6.8396</td>\n",
       "      <td>-9.5006</td>\n",
       "      <td>...</td>\n",
       "      <td>0.16049</td>\n",
       "      <td>0.43750</td>\n",
       "      <td>4.1111</td>\n",
       "      <td>0.320990</td>\n",
       "      <td>0.83333</td>\n",
       "      <td>0.33333</td>\n",
       "      <td>0.33333</td>\n",
       "      <td>1.14910</td>\n",
       "      <td>0.38272</td>\n",
       "      <td>0.41603</td>\n",
       "    </tr>\n",
       "    <tr>\n",
       "      <th>4</th>\n",
       "      <td>1</td>\n",
       "      <td>-12.686</td>\n",
       "      <td>-19.278</td>\n",
       "      <td>-9.8185</td>\n",
       "      <td>-13.108</td>\n",
       "      <td>-10.932</td>\n",
       "      <td>-13.939</td>\n",
       "      <td>-2.8675</td>\n",
       "      <td>-6.5919</td>\n",
       "      <td>-9.4594</td>\n",
       "      <td>...</td>\n",
       "      <td>0.18519</td>\n",
       "      <td>0.35000</td>\n",
       "      <td>4.0000</td>\n",
       "      <td>0.444440</td>\n",
       "      <td>0.68889</td>\n",
       "      <td>0.88889</td>\n",
       "      <td>0.66667</td>\n",
       "      <td>1.58110</td>\n",
       "      <td>0.20988</td>\n",
       "      <td>0.50000</td>\n",
       "    </tr>\n",
       "  </tbody>\n",
       "</table>\n",
       "<p>5 rows × 175 columns</p>\n",
       "</div>"
      ],
      "text/plain": [
       "   label      f1      f2       f3      f4      f5      f6      f7      f8  \\\n",
       "0      1 -13.559 -21.407 -11.4040 -15.248 -11.923 -15.291 -2.1548 -7.8474   \n",
       "1      1 -12.802 -20.335 -10.3990 -14.132 -11.096 -14.361 -2.4039 -7.5330   \n",
       "2      1 -12.431 -19.902 -10.0740 -13.598 -10.829 -14.048 -2.3566 -7.4717   \n",
       "3      1 -12.689 -19.529 -10.0280 -13.350 -11.056 -14.014 -2.6611 -6.8396   \n",
       "4      1 -12.686 -19.278  -9.8185 -13.108 -10.932 -13.939 -2.8675 -6.5919   \n",
       "\n",
       "        f9  ...     f165     f166    f167      f168     f169     f170  \\\n",
       "0 -10.0020  ...  0.18519  0.72602  5.3333  6.000000  0.29489  9.77780   \n",
       "1  -9.9369  ...  0.33333 -0.48751  2.1111  0.098765  0.83333  0.33333   \n",
       "2  -9.8283  ...  0.25926  0.25298  2.2222  0.172840  0.68889  0.88889   \n",
       "3  -9.5006  ...  0.16049  0.43750  4.1111  0.320990  0.83333  0.33333   \n",
       "4  -9.4594  ...  0.18519  0.35000  4.0000  0.444440  0.68889  0.88889   \n",
       "\n",
       "      f171     f172     f173     f174  \n",
       "0  2.44440  1.67700  0.20988  0.65422  \n",
       "1  0.33333  0.84869  0.50617 -0.18898  \n",
       "2  0.66667  1.27300  0.30864  0.10483  \n",
       "3  0.33333  1.14910  0.38272  0.41603  \n",
       "4  0.66667  1.58110  0.20988  0.50000  \n",
       "\n",
       "[5 rows x 175 columns]"
      ]
     },
     "execution_count": 2,
     "metadata": {},
     "output_type": "execute_result"
    }
   ],
   "source": [
    "df = pd.read_csv('WinnipegDataset.txt')\n",
    "df.head()"
   ]
  },
  {
   "cell_type": "code",
   "execution_count": 3,
   "id": "6597be7f",
   "metadata": {},
   "outputs": [
    {
     "data": {
      "text/plain": [
       "6    85074\n",
       "3    75673\n",
       "4    74067\n",
       "5    47117\n",
       "1    39162\n",
       "2     3598\n",
       "7     1143\n",
       "Name: label, dtype: int64"
      ]
     },
     "execution_count": 3,
     "metadata": {},
     "output_type": "execute_result"
    }
   ],
   "source": [
    "#df = df[0:50000]\n",
    "df.label.value_counts()"
   ]
  },
  {
   "cell_type": "code",
   "execution_count": 4,
   "id": "e46a60d8",
   "metadata": {},
   "outputs": [
    {
     "name": "stdout",
     "output_type": "stream",
     "text": [
      "Class share\n",
      "\n",
      "Class 1: 12.02 %\n",
      "Class 2: 1.10 %\n",
      "Class 3: 23.22 %\n",
      "Class 4: 22.73 %\n",
      "Class 5: 14.46 %\n",
      "Class 6: 26.11 %\n",
      "Class 7: 0.35 %\n"
     ]
    }
   ],
   "source": [
    "class_share = pd.Series(100 * df.label.value_counts(normalize=True)).sort_index()\n",
    "print('Class share\\n')\n",
    "for i in range(0,7):\n",
    "    print(f'Class {class_share.index[i]}: {class_share.iloc[i]:.2f} %')\n",
    "    \n",
    "#Below shows a somehow balanced distrbution, with exception in class 2 (Pea) and class 7 (Broadleaf)"
   ]
  },
  {
   "cell_type": "code",
   "execution_count": 5,
   "id": "2ecb71dc",
   "metadata": {},
   "outputs": [
    {
     "data": {
      "text/plain": [
       "Text(0, 0.5, 'Share (%)')"
      ]
     },
     "execution_count": 5,
     "metadata": {},
     "output_type": "execute_result"
    },
    {
     "data": {
      "image/png": "[encoded data removed]",
      "text/plain": [
       "<Figure size 576x360 with 1 Axes>"
      ]
     },
     "metadata": {
      "needs_background": "light"
     },
     "output_type": "display_data"
    }
   ],
   "source": [
    "fig, ax = plt.subplots(figsize=(8,5))\n",
    "sns.barplot(ax=ax, x = class_share.index, y = class_share, palette='Greens_d')\n",
    "plt.title('Cropland Class Share', fontsize=18)\n",
    "plt.xlabel('Cropland Class', fontsize=14)\n",
    "plt.ylabel('Share (%)', fontsize=14)"
   ]
  },
  {
   "cell_type": "markdown",
   "id": "3cdcfd41",
   "metadata": {},
   "source": [
    "### Correlation"
   ]
  },
  {
   "cell_type": "code",
   "execution_count": 6,
   "id": "112cc7fc",
   "metadata": {},
   "outputs": [
    {
     "name": "stderr",
     "output_type": "stream",
     "text": [
      "/var/folders/t8/4cz6934j38v_m257qfz846ym0000gn/T/ipykernel_19802/3470960586.py:5: DeprecationWarning: `np.bool` is a deprecated alias for the builtin `bool`. To silence this warning, use `bool` by itself. Doing this will not modify any behavior and is safe. If you specifically wanted the numpy scalar type, use `np.bool_` here.\n",
      "Deprecated in NumPy 1.20; for more details and guidance: https://numpy.org/devdocs/release/1.20.0-notes.html#deprecations\n",
      "  upper_matrix = correlation_matrix.where(np.triu(np.ones(correlation_matrix.shape), k=1).astype(np.bool))\n"
     ]
    },
    {
     "name": "stdout",
     "output_type": "stream",
     "text": [
      "['f2', 'f5', 'f6', 'f13', 'f15', 'f16', 'f17', 'f18', 'f30', 'f32', 'f35', 'f36', 'f37', 'f38', 'f39', 'f40', 'f41', 'f45', 'f46', 'f47', 'f49', 'f53', 'f54', 'f55', 'f62', 'f64', 'f65', 'f66', 'f67', 'f79', 'f81', 'f84', 'f85', 'f86', 'f87', 'f88', 'f89', 'f90', 'f92', 'f94', 'f95', 'f96', 'f98', 'f102', 'f108', 'f109', 'f111', 'f112', 'f113', 'f114', 'f116', 'f117', 'f120', 'f121', 'f127', 'f129', 'f133', 'f135', 'f146', 'f147', 'f148', 'f149', 'f152', 'f153', 'f154', 'f156', 'f157', 'f158', 'f159', 'f165', 'f171', 'f173']\n"
     ]
    }
   ],
   "source": [
    "highly_correlated_feature_pairs = []\n",
    "highly_correlated_features_to_drop = []\n",
    "\n",
    "correlation_matrix = df.corr().abs()\n",
    "upper_matrix = correlation_matrix.where(np.triu(np.ones(correlation_matrix.shape), k=1).astype(np.bool))\n",
    "for row in range(upper_matrix.shape[0]):\n",
    "    for column in range(upper_matrix.shape[1]):\n",
    "        if upper_matrix.iloc[row, column] > 0.95:\n",
    "            highly_correlated_feature_pairs.append([row, column, upper_matrix.iloc[row, column]])\n",
    "highly_correlated_features_to_drop = [column for column in upper_matrix.columns if any(upper_matrix[column] > 0.95)]\n",
    "print(highly_correlated_features_to_drop)\n",
    "\n"
   ]
  },
  {
   "cell_type": "code",
   "execution_count": 7,
   "id": "8b5e09d4",
   "metadata": {},
   "outputs": [],
   "source": [
    "##Dropping highly correlated features\n",
    "df = df.drop(df[highly_correlated_features_to_drop], axis=1)"
   ]
  },
  {
   "cell_type": "code",
   "execution_count": 8,
   "id": "d7a00c5c",
   "metadata": {},
   "outputs": [
    {
     "name": "stdout",
     "output_type": "stream",
     "text": [
      "Optimized number of features: 102\n"
     ]
    }
   ],
   "source": [
    "##the number of features was substantially reduced from 174 down to 102\n",
    "nr_features = df.shape[1] - 1\n",
    "print(f'Optimized number of features: {nr_features}')"
   ]
  },
  {
   "cell_type": "code",
   "execution_count": 9,
   "id": "d00f1aba",
   "metadata": {},
   "outputs": [],
   "source": [
    "from sklearn.model_selection import train_test_split\n",
    "\n",
    "X = df.drop('label', axis = 1)\n",
    "y = df.label\n",
    "\n",
    "# Splitting Dataset into train and test set \n",
    "X_train, X_test, y_train, y_test = train_test_split(X, y, test_size=0.2)"
   ]
  },
  {
   "cell_type": "markdown",
   "id": "38c39872",
   "metadata": {},
   "source": [
    "### Classification"
   ]
  },
  {
   "cell_type": "code",
   "execution_count": 10,
   "id": "bca704f7",
   "metadata": {},
   "outputs": [],
   "source": [
    "from sklearn.metrics import accuracy_score, precision_score, recall_score, f1_score\n",
    "\n",
    "\n",
    "#change to fit_resample\n",
    "#X_train, y_train = ros.fit_resample(Xtrain, y_train)\n",
    "def modeling(Model, Xtrain = X_train, Xtest = X_test):\n",
    "    model = Model\n",
    "    \n",
    "    #Xtrain = pca.fit_transform(Xtrain)\n",
    "    #Xtest = pca.transform(Xtest)\n",
    "    \n",
    "    # Fitting classifier to the Training set (all features)\n",
    "    model.fit(Xtrain, y_train)\n",
    "    \n",
    "    global y_pred\n",
    "    # Predicting the Test set results\n",
    "    y_pred = model.predict(Xtest)\n",
    "    \n",
    "    #Evaluating models\n",
    "    accuracy = accuracy_score(y_test, y_pred)\n",
    "    precision = precision_score(y_test, y_pred, average='micro')\n",
    "    recall = recall_score(y_test, y_pred, average='micro')\n",
    "    f1 = f1_score(y_test, y_pred, average='micro')\n",
    "    \n",
    "    \n",
    "    # Printing evaluation metrics\n",
    "    print('Accuracy:', accuracy, ', Precision:', precision, ', Recall:', recall,' ,F1:', f1)\n"
   ]
  },
  {
   "cell_type": "code",
   "execution_count": 11,
   "id": "0445555b",
   "metadata": {},
   "outputs": [
    {
     "name": "stdout",
     "output_type": "stream",
     "text": [
      "Accuracy: 0.7100986695720226 , Precision: 0.7100986695720226 , Recall: 0.7100986695720226  ,F1: 0.7100986695720226\n"
     ]
    },
    {
     "name": "stderr",
     "output_type": "stream",
     "text": [
      "/Users/patriciasiuhaliu/opt/anaconda3/lib/python3.9/site-packages/sklearn/linear_model/_logistic.py:444: ConvergenceWarning: lbfgs failed to converge (status=1):\n",
      "STOP: TOTAL NO. of ITERATIONS REACHED LIMIT.\n",
      "\n",
      "Increase the number of iterations (max_iter) or scale the data as shown in:\n",
      "    https://scikit-learn.org/stable/modules/preprocessing.html\n",
      "Please also refer to the documentation for alternative solver options:\n",
      "    https://scikit-learn.org/stable/modules/linear_model.html#logistic-regression\n",
      "  n_iter_i = _check_optimize_result(\n"
     ]
    }
   ],
   "source": [
    "#Logistic Regression\n",
    "from sklearn.linear_model import LogisticRegression\n",
    "modeling(LogisticRegression())"
   ]
  },
  {
   "cell_type": "code",
   "execution_count": 12,
   "id": "6a2fe913",
   "metadata": {},
   "outputs": [
    {
     "name": "stdout",
     "output_type": "stream",
     "text": [
      "Accuracy: 0.9252535792655792 , Precision: 0.9252535792655792 , Recall: 0.9252535792655792  ,F1: 0.9252535792655792\n"
     ]
    }
   ],
   "source": [
    "#Naive Bayes\n",
    "from sklearn.naive_bayes import GaussianNB\n",
    "modeling(GaussianNB())"
   ]
  },
  {
   "cell_type": "code",
   "execution_count": 13,
   "id": "a246baa7",
   "metadata": {},
   "outputs": [
    {
     "name": "stdout",
     "output_type": "stream",
     "text": [
      "Accuracy: 0.98798471619071 , Precision: 0.98798471619071 , Recall: 0.98798471619071  ,F1: 0.98798471619071\n"
     ]
    }
   ],
   "source": [
    "#Decision Tree\n",
    "from sklearn.tree import DecisionTreeClassifier\n",
    "modeling(DecisionTreeClassifier())"
   ]
  },
  {
   "cell_type": "markdown",
   "id": "244bb887",
   "metadata": {},
   "source": [
    "### Unsupervised Clustering"
   ]
  },
  {
   "cell_type": "code",
   "execution_count": 14,
   "id": "7b33ef5f",
   "metadata": {},
   "outputs": [
    {
     "data": {
      "image/png": "[encoded data removed]",
      "text/plain": [
       "<Figure size 432x288 with 1 Axes>"
      ]
     },
     "metadata": {
      "needs_background": "light"
     },
     "output_type": "display_data"
    }
   ],
   "source": [
    "import matplotlib.pyplot as plt\n",
    "from matplotlib.colors import ListedColormap\n",
    "from sklearn.cluster import KMeans\n",
    "\n",
    "\n",
    "# try different K value and find the best K for KMeans\n",
    "# Assumption: SSE is smaller, it is better\n",
    "\n",
    "Sum_of_squared_distances = []\n",
    "K = range(1,15)\n",
    "for k in K:\n",
    "    km = KMeans(n_clusters=k)\n",
    "    km = km.fit(X)\n",
    "    Sum_of_squared_distances.append(km.inertia_)\n",
    "    \n",
    "# Plot K and SSE, observe which one is better\n",
    "# In the plot, the elbow on the arm is optimal k\n",
    "plt.plot(K, Sum_of_squared_distances, 'bx-')\n",
    "plt.xlabel('k')\n",
    "plt.ylabel('Sum_of_squared_distances')\n",
    "plt.title('Elbow Method For Optimal k')\n",
    "plt.show()"
   ]
  },
  {
   "cell_type": "markdown",
   "id": "9caed08c",
   "metadata": {},
   "source": [
    "#### choosing 4 clusters "
   ]
  },
  {
   "cell_type": "code",
   "execution_count": 15,
   "id": "218edf39",
   "metadata": {},
   "outputs": [
    {
     "data": {
      "text/html": [
       "<style>#sk-container-id-1 {color: black;background-color: white;}#sk-container-id-1 pre{padding: 0;}#sk-container-id-1 div.sk-toggleable {background-color: white;}#sk-container-id-1 label.sk-toggleable__label {cursor: pointer;display: block;width: 100%;margin-bottom: 0;padding: 0.3em;box-sizing: border-box;text-align: center;}#sk-container-id-1 label.sk-toggleable__label-arrow:before {content: \"▸\";float: left;margin-right: 0.25em;color: #696969;}#sk-container-id-1 label.sk-toggleable__label-arrow:hover:before {color: black;}#sk-container-id-1 div.sk-estimator:hover label.sk-toggleable__label-arrow:before {color: black;}#sk-container-id-1 div.sk-toggleable__content {max-height: 0;max-width: 0;overflow: hidden;text-align: left;background-color: #f0f8ff;}#sk-container-id-1 div.sk-toggleable__content pre {margin: 0.2em;color: black;border-radius: 0.25em;background-color: #f0f8ff;}#sk-container-id-1 input.sk-toggleable__control:checked~div.sk-toggleable__content {max-height: 200px;max-width: 100%;overflow: auto;}#sk-container-id-1 input.sk-toggleable__control:checked~label.sk-toggleable__label-arrow:before {content: \"▾\";}#sk-container-id-1 div.sk-estimator input.sk-toggleable__control:checked~label.sk-toggleable__label {background-color: #d4ebff;}#sk-container-id-1 div.sk-label input.sk-toggleable__control:checked~label.sk-toggleable__label {background-color: #d4ebff;}#sk-container-id-1 input.sk-hidden--visually {border: 0;clip: rect(1px 1px 1px 1px);clip: rect(1px, 1px, 1px, 1px);height: 1px;margin: -1px;overflow: hidden;padding: 0;position: absolute;width: 1px;}#sk-container-id-1 div.sk-estimator {font-family: monospace;background-color: #f0f8ff;border: 1px dotted black;border-radius: 0.25em;box-sizing: border-box;margin-bottom: 0.5em;}#sk-container-id-1 div.sk-estimator:hover {background-color: #d4ebff;}#sk-container-id-1 div.sk-parallel-item::after {content: \"\";width: 100%;border-bottom: 1px solid gray;flex-grow: 1;}#sk-container-id-1 div.sk-label:hover label.sk-toggleable__label {background-color: #d4ebff;}#sk-container-id-1 div.sk-serial::before {content: \"\";position: absolute;border-left: 1px solid gray;box-sizing: border-box;top: 0;bottom: 0;left: 50%;z-index: 0;}#sk-container-id-1 div.sk-serial {display: flex;flex-direction: column;align-items: center;background-color: white;padding-right: 0.2em;padding-left: 0.2em;position: relative;}#sk-container-id-1 div.sk-item {position: relative;z-index: 1;}#sk-container-id-1 div.sk-parallel {display: flex;align-items: stretch;justify-content: center;background-color: white;position: relative;}#sk-container-id-1 div.sk-item::before, #sk-container-id-1 div.sk-parallel-item::before {content: \"\";position: absolute;border-left: 1px solid gray;box-sizing: border-box;top: 0;bottom: 0;left: 50%;z-index: -1;}#sk-container-id-1 div.sk-parallel-item {display: flex;flex-direction: column;z-index: 1;position: relative;background-color: white;}#sk-container-id-1 div.sk-parallel-item:first-child::after {align-self: flex-end;width: 50%;}#sk-container-id-1 div.sk-parallel-item:last-child::after {align-self: flex-start;width: 50%;}#sk-container-id-1 div.sk-parallel-item:only-child::after {width: 0;}#sk-container-id-1 div.sk-dashed-wrapped {border: 1px dashed gray;margin: 0 0.4em 0.5em 0.4em;box-sizing: border-box;padding-bottom: 0.4em;background-color: white;}#sk-container-id-1 div.sk-label label {font-family: monospace;font-weight: bold;display: inline-block;line-height: 1.2em;}#sk-container-id-1 div.sk-label-container {text-align: center;}#sk-container-id-1 div.sk-container {/* jupyter's `normalize.less` sets `[hidden] { display: none; }` but bootstrap.min.css set `[hidden] { display: none !important; }` so we also need the `!important` here to be able to override the default hidden behavior on the sphinx rendered scikit-learn.org. See: https://github.com/scikit-learn/scikit-learn/issues/21755 */display: inline-block !important;position: relative;}#sk-container-id-1 div.sk-text-repr-fallback {display: none;}</style><div id=\"sk-container-id-1\" class=\"sk-top-container\"><div class=\"sk-text-repr-fallback\"><pre>KMeans(n_clusters=4)</pre><b>In a Jupyter environment, please rerun this cell to show the HTML representation or trust the notebook. <br />On GitHub, the HTML representation is unable to render, please try loading this page with nbviewer.org.</b></div><div class=\"sk-container\" hidden><div class=\"sk-item\"><div class=\"sk-estimator sk-toggleable\"><input class=\"sk-toggleable__control sk-hidden--visually\" id=\"sk-estimator-id-1\" type=\"checkbox\" checked><label for=\"sk-estimator-id-1\" class=\"sk-toggleable__label sk-toggleable__label-arrow\">KMeans</label><div class=\"sk-toggleable__content\"><pre>KMeans(n_clusters=4)</pre></div></div></div></div></div>"
      ],
      "text/plain": [
       "KMeans(n_clusters=4)"
      ]
     },
     "execution_count": 15,
     "metadata": {},
     "output_type": "execute_result"
    }
   ],
   "source": [
    "kmeans=KMeans(n_clusters= 4)\n",
    "kmeans.fit(X)#training the unsupervised data"
   ]
  },
  {
   "cell_type": "code",
   "execution_count": 16,
   "id": "0f9303b2",
   "metadata": {},
   "outputs": [],
   "source": [
    "X2 = df.drop('label', axis = 1) #dropping label\n",
    "km_pred = kmeans.predict(X2)\n",
    "X2['cluster'] = km_pred#adding a new column to X2 with the cluster index\n",
    "y2 = df.label\n",
    "\n",
    "#after adding the column we check if it is improving the accuracy of supervised learning or not\n",
    "# This way we evaliuate unsupervised, as there is not way to evalute unsupervised\n",
    "# Splitting Dataset into train and test set \n",
    "X_train, X_test, y_train, y_test = train_test_split(X2, y2, test_size=0.2)\n",
    "\n",
    "def modeling(Model, Xtrain = X_train, Xtest = X_test):\n",
    "    model = Model\n",
    "    \n",
    "    #Xtrain = pca.fit_transform(Xtrain)\n",
    "    #Xtest = pca.transform(Xtest)\n",
    "    \n",
    "    # Fitting classifier to the Training set (all features)\n",
    "    model.fit(Xtrain, y_train)\n",
    "    \n",
    "    global y_pred\n",
    "    # Predicting the Test set results\n",
    "    y_pred = model.predict(Xtest)\n",
    "    \n",
    "    #Evaluating models\n",
    "    accuracy = accuracy_score(y_test, y_pred)\n",
    "    precision = precision_score(y_test, y_pred, average='micro')\n",
    "    recall = recall_score(y_test, y_pred, average='micro')\n",
    "    f1 = f1_score(y_test, y_pred, average='micro')\n",
    "    \n",
    "    \n",
    "    # Printing evaluation metrics\n",
    "    print('Accuracy:', accuracy, ', Precision:', precision, ', Recall:', recall,' ,F1:', f1)"
   ]
  },
  {
   "cell_type": "code",
   "execution_count": 17,
   "id": "61cff7e6",
   "metadata": {},
   "outputs": [
    {
     "name": "stdout",
     "output_type": "stream",
     "text": [
      "Accuracy: 0.6942317430601378 , Precision: 0.6942317430601378 , Recall: 0.6942317430601378  ,F1: 0.6942317430601378\n"
     ]
    },
    {
     "name": "stderr",
     "output_type": "stream",
     "text": [
      "/Users/patriciasiuhaliu/opt/anaconda3/lib/python3.9/site-packages/sklearn/linear_model/_logistic.py:444: ConvergenceWarning: lbfgs failed to converge (status=1):\n",
      "STOP: TOTAL NO. of ITERATIONS REACHED LIMIT.\n",
      "\n",
      "Increase the number of iterations (max_iter) or scale the data as shown in:\n",
      "    https://scikit-learn.org/stable/modules/preprocessing.html\n",
      "Please also refer to the documentation for alternative solver options:\n",
      "    https://scikit-learn.org/stable/modules/linear_model.html#logistic-regression\n",
      "  n_iter_i = _check_optimize_result(\n"
     ]
    }
   ],
   "source": [
    "#Logistic Regression\n",
    "from sklearn.linear_model import LogisticRegression\n",
    "modeling(LogisticRegression())"
   ]
  },
  {
   "cell_type": "code",
   "execution_count": 18,
   "id": "cfbbea9a",
   "metadata": {},
   "outputs": [
    {
     "name": "stdout",
     "output_type": "stream",
     "text": [
      "Accuracy: 0.9266653367501957 , Precision: 0.9266653367501957 , Recall: 0.9266653367501957  ,F1: 0.9266653367501957\n"
     ]
    }
   ],
   "source": [
    "#Naive Bayes\n",
    "from sklearn.naive_bayes import GaussianNB\n",
    "modeling(GaussianNB())"
   ]
  },
  {
   "cell_type": "code",
   "execution_count": 19,
   "id": "a15f51ad",
   "metadata": {},
   "outputs": [
    {
     "name": "stdout",
     "output_type": "stream",
     "text": [
      "Accuracy: 0.9873709085887029 , Precision: 0.9873709085887029 , Recall: 0.9873709085887029  ,F1: 0.9873709085887029\n"
     ]
    }
   ],
   "source": [
    "#Decision Tree\n",
    "from sklearn.tree import DecisionTreeClassifier\n",
    "modeling(DecisionTreeClassifier())"
   ]
  },
  {
   "cell_type": "code",
   "execution_count": 20,
   "id": "0cefc96f",
   "metadata": {},
   "outputs": [],
   "source": [
    "#After adding a cluster variable tothe features there is not much differnce in accuracy precision or recall\n",
    "# so we can say that unsupervised learning is not helpful in predicting the label"
   ]
  },
  {
   "cell_type": "markdown",
   "id": "852e0016",
   "metadata": {},
   "source": [
    "### With PCA (95%)"
   ]
  },
  {
   "cell_type": "code",
   "execution_count": 21,
   "id": "7cd1bc36",
   "metadata": {},
   "outputs": [],
   "source": [
    "X = df.drop('label', axis = 1)\n",
    "y = df.label\n",
    "\n",
    "# Splitting Dataset into train and test set \n",
    "X_train, X_test, y_train, y_test = train_test_split(X, y, test_size=0.2)\n",
    "\n",
    "from sklearn.metrics import accuracy_score, precision_score, recall_score, f1_score\n",
    "from sklearn.decomposition import PCA\n",
    "pca = PCA(n_components=0.95)# only those columns which explains 80% of the variance (of max accuracy) of the data\n",
    "#feature reduction pca helps to reduce computational load on system\n",
    "\n",
    "#change to fit_resample\n",
    "#X_train, y_train = ros.fit_resample(Xtrain, y_train)\n",
    "def modeling(Model, Xtrain = X_train, Xtest = X_test):\n",
    "    model = Model\n",
    "    \n",
    "    Xtrain = pca.fit_transform(Xtrain)# MAKES A matrix removing the not needed columns based on PCA\n",
    "    Xtest = pca.transform(Xtest)# MAKES A matrix removing the not needed columns based on PCA\n",
    "    \n",
    "    # Fitting classifier to the Training set (all features)\n",
    "    model.fit(Xtrain, y_train)\n",
    "    \n",
    "    global y_pred\n",
    "    # Predicting the Test set results\n",
    "    y_pred = model.predict(Xtest)\n",
    "    \n",
    "    #Evaluating models\n",
    "    accuracy = accuracy_score(y_test, y_pred)\n",
    "    precision = precision_score(y_test, y_pred, average='micro')\n",
    "    recall = recall_score(y_test, y_pred, average='micro')\n",
    "    f1 = f1_score(y_test, y_pred, average='micro')\n",
    "    \n",
    "    \n",
    "    # Printing evaluation metrics\n",
    "    print('Accuracy:', accuracy, ', Precision:', precision, ', Recall:', recall,' ,F1:', f1)"
   ]
  },
  {
   "cell_type": "code",
   "execution_count": 22,
   "id": "ff4e1fc2",
   "metadata": {},
   "outputs": [
    {
     "name": "stdout",
     "output_type": "stream",
     "text": [
      "Accuracy: 0.6996946307180014 , Precision: 0.6996946307180014 , Recall: 0.6996946307180014  ,F1: 0.6996946307180014\n"
     ]
    },
    {
     "name": "stderr",
     "output_type": "stream",
     "text": [
      "/Users/patriciasiuhaliu/opt/anaconda3/lib/python3.9/site-packages/sklearn/linear_model/_logistic.py:444: ConvergenceWarning: lbfgs failed to converge (status=1):\n",
      "STOP: TOTAL NO. of ITERATIONS REACHED LIMIT.\n",
      "\n",
      "Increase the number of iterations (max_iter) or scale the data as shown in:\n",
      "    https://scikit-learn.org/stable/modules/preprocessing.html\n",
      "Please also refer to the documentation for alternative solver options:\n",
      "    https://scikit-learn.org/stable/modules/linear_model.html#logistic-regression\n",
      "  n_iter_i = _check_optimize_result(\n"
     ]
    }
   ],
   "source": [
    "#Logistic Regression\n",
    "from sklearn.linear_model import LogisticRegression\n",
    "modeling(LogisticRegression())"
   ]
  },
  {
   "cell_type": "code",
   "execution_count": 23,
   "id": "fe67c5ba",
   "metadata": {},
   "outputs": [
    {
     "name": "stdout",
     "output_type": "stream",
     "text": [
      "Accuracy: 0.6431169150029923 , Precision: 0.6431169150029923 , Recall: 0.6431169150029923  ,F1: 0.6431169150029923\n"
     ]
    }
   ],
   "source": [
    "#Naive Bayes\n",
    "from sklearn.naive_bayes import GaussianNB\n",
    "modeling(GaussianNB())"
   ]
  },
  {
   "cell_type": "code",
   "execution_count": 24,
   "id": "d7d680af",
   "metadata": {},
   "outputs": [
    {
     "name": "stdout",
     "output_type": "stream",
     "text": [
      "Accuracy: 0.6820783525403962 , Precision: 0.6820783525403962 , Recall: 0.6820783525403962  ,F1: 0.6820783525403962\n"
     ]
    }
   ],
   "source": [
    "#Decision Tree\n",
    "from sklearn.tree import DecisionTreeClassifier\n",
    "modeling(DecisionTreeClassifier())"
   ]
  },
  {
   "cell_type": "markdown",
   "id": "85e4d985",
   "metadata": {},
   "source": [
    "### With PCA ( 80% )"
   ]
  },
  {
   "cell_type": "code",
   "execution_count": 25,
   "id": "91af11d4",
   "metadata": {},
   "outputs": [],
   "source": [
    "X = df.drop('label', axis = 1)\n",
    "y = df.label\n",
    "\n",
    "# Splitting Dataset into train and test set \n",
    "X_train, X_test, y_train, y_test = train_test_split(X, y, test_size=0.2)\n",
    "\n",
    "from sklearn.metrics import accuracy_score, precision_score, recall_score, f1_score\n",
    "from sklearn.decomposition import PCA\n",
    "pca = PCA(n_components=0.8)# only those columns which explains 80% of the variance (of max accuracy) of the data\n",
    "#feature reduction pca helps to reduce computational load on system\n",
    "\n",
    "#change to fit_resample\n",
    "#X_train, y_train = ros.fit_resample(Xtrain, y_train)\n",
    "def modeling(Model, Xtrain = X_train, Xtest = X_test):\n",
    "    model = Model\n",
    "    \n",
    "    Xtrain = pca.fit_transform(Xtrain)# MAKES A matrix removing the not needed columns based on PCA\n",
    "    Xtest = pca.transform(Xtest)# MAKES A matrix removing the not needed columns based on PCA\n",
    "    \n",
    "    # Fitting classifier to the Training set (all features)\n",
    "    model.fit(Xtrain, y_train)\n",
    "    \n",
    "    global y_pred\n",
    "    # Predicting the Test set results\n",
    "    y_pred = model.predict(Xtest)\n",
    "    \n",
    "    #Evaluating models\n",
    "    accuracy = accuracy_score(y_test, y_pred)\n",
    "    precision = precision_score(y_test, y_pred, average='micro')\n",
    "    recall = recall_score(y_test, y_pred, average='micro')\n",
    "    f1 = f1_score(y_test, y_pred, average='micro')\n",
    "    \n",
    "    \n",
    "    # Printing evaluation metrics\n",
    "    print('Accuracy:', accuracy, ', Precision:', precision, ', Recall:', recall,' ,F1:', f1)"
   ]
  },
  {
   "cell_type": "code",
   "execution_count": 26,
   "id": "17737e1e",
   "metadata": {},
   "outputs": [
    {
     "name": "stdout",
     "output_type": "stream",
     "text": [
      "Accuracy: 0.5185906977457916 , Precision: 0.5185906977457916 , Recall: 0.5185906977457916  ,F1: 0.5185906977457916\n"
     ]
    },
    {
     "name": "stderr",
     "output_type": "stream",
     "text": [
      "/Users/patriciasiuhaliu/opt/anaconda3/lib/python3.9/site-packages/sklearn/linear_model/_logistic.py:444: ConvergenceWarning: lbfgs failed to converge (status=1):\n",
      "STOP: TOTAL NO. of ITERATIONS REACHED LIMIT.\n",
      "\n",
      "Increase the number of iterations (max_iter) or scale the data as shown in:\n",
      "    https://scikit-learn.org/stable/modules/preprocessing.html\n",
      "Please also refer to the documentation for alternative solver options:\n",
      "    https://scikit-learn.org/stable/modules/linear_model.html#logistic-regression\n",
      "  n_iter_i = _check_optimize_result(\n"
     ]
    }
   ],
   "source": [
    "#Logistic Regression\n",
    "from sklearn.linear_model import LogisticRegression\n",
    "modeling(LogisticRegression())"
   ]
  },
  {
   "cell_type": "code",
   "execution_count": 27,
   "id": "823f7d3b",
   "metadata": {},
   "outputs": [
    {
     "name": "stdout",
     "output_type": "stream",
     "text": [
      "Accuracy: 0.5344269338775761 , Precision: 0.5344269338775761 , Recall: 0.5344269338775761  ,F1: 0.5344269338775761\n"
     ]
    }
   ],
   "source": [
    "#Naive Bayes\n",
    "from sklearn.naive_bayes import GaussianNB\n",
    "modeling(GaussianNB())"
   ]
  },
  {
   "cell_type": "code",
   "execution_count": 28,
   "id": "faa349d7",
   "metadata": {},
   "outputs": [
    {
     "name": "stdout",
     "output_type": "stream",
     "text": [
      "Accuracy: 0.42291343778292695 , Precision: 0.42291343778292695 , Recall: 0.42291343778292695  ,F1: 0.4229134377829269\n"
     ]
    }
   ],
   "source": [
    "#Decision Tree\n",
    "from sklearn.tree import DecisionTreeClassifier\n",
    "modeling(DecisionTreeClassifier())"
   ]
  },
  {
   "cell_type": "markdown",
   "id": "37a9c187",
   "metadata": {},
   "source": [
    "### With PCA (30%)"
   ]
  },
  {
   "cell_type": "code",
   "execution_count": 29,
   "id": "b898e826",
   "metadata": {},
   "outputs": [],
   "source": [
    "X = df.drop('label', axis = 1)\n",
    "y = df.label\n",
    "\n",
    "# Splitting Dataset into train and test set \n",
    "X_train, X_test, y_train, y_test = train_test_split(X, y, test_size=0.2)\n",
    "\n",
    "from sklearn.metrics import accuracy_score, precision_score, recall_score, f1_score\n",
    "from sklearn.decomposition import PCA\n",
    "pca = PCA(n_components=0.3)\n",
    "\n",
    "#change to fit_resample\n",
    "#X_train, y_train = ros.fit_resample(Xtrain, y_train)\n",
    "def modeling(Model, Xtrain = X_train, Xtest = X_test):\n",
    "    model = Model\n",
    "    \n",
    "    Xtrain = pca.fit_transform(Xtrain)\n",
    "    Xtest = pca.transform(Xtest)\n",
    "    \n",
    "    # Fitting classifier to the Training set (all features)\n",
    "    model.fit(Xtrain, y_train)\n",
    "    \n",
    "    global y_pred\n",
    "    # Predicting the Test set results\n",
    "    y_pred = model.predict(Xtest)\n",
    "    \n",
    "    #Evaluating models\n",
    "    accuracy = accuracy_score(y_test, y_pred)\n",
    "    precision = precision_score(y_test, y_pred, average='micro')\n",
    "    recall = recall_score(y_test, y_pred, average='micro')\n",
    "    f1 = f1_score(y_test, y_pred, average='micro')\n",
    "    \n",
    "    \n",
    "    # Printing evaluation metrics\n",
    "    print('Accuracy:', accuracy, ', Precision:', precision, ', Recall:', recall,' ,F1:', f1)"
   ]
  },
  {
   "cell_type": "code",
   "execution_count": 30,
   "id": "52fc47f6",
   "metadata": {},
   "outputs": [
    {
     "name": "stdout",
     "output_type": "stream",
     "text": [
      "Accuracy: 0.5249282612365154 , Precision: 0.5249282612365154 , Recall: 0.5249282612365154  ,F1: 0.5249282612365154\n"
     ]
    },
    {
     "name": "stderr",
     "output_type": "stream",
     "text": [
      "/Users/patriciasiuhaliu/opt/anaconda3/lib/python3.9/site-packages/sklearn/linear_model/_logistic.py:444: ConvergenceWarning: lbfgs failed to converge (status=1):\n",
      "STOP: TOTAL NO. of ITERATIONS REACHED LIMIT.\n",
      "\n",
      "Increase the number of iterations (max_iter) or scale the data as shown in:\n",
      "    https://scikit-learn.org/stable/modules/preprocessing.html\n",
      "Please also refer to the documentation for alternative solver options:\n",
      "    https://scikit-learn.org/stable/modules/linear_model.html#logistic-regression\n",
      "  n_iter_i = _check_optimize_result(\n"
     ]
    }
   ],
   "source": [
    "#Logistic Regression\n",
    "from sklearn.linear_model import LogisticRegression\n",
    "modeling(LogisticRegression())"
   ]
  },
  {
   "cell_type": "code",
   "execution_count": 31,
   "id": "b1f4cca1",
   "metadata": {},
   "outputs": [
    {
     "name": "stdout",
     "output_type": "stream",
     "text": [
      "Accuracy: 0.5326622370218055 , Precision: 0.5326622370218055 , Recall: 0.5326622370218055  ,F1: 0.5326622370218055\n"
     ]
    }
   ],
   "source": [
    "#Naive Bayes\n",
    "from sklearn.naive_bayes import GaussianNB\n",
    "modeling(GaussianNB())"
   ]
  },
  {
   "cell_type": "code",
   "execution_count": 32,
   "id": "7e9cc728",
   "metadata": {},
   "outputs": [
    {
     "name": "stdout",
     "output_type": "stream",
     "text": [
      "Accuracy: 0.42384949437598785 , Precision: 0.42384949437598785 , Recall: 0.42384949437598785  ,F1: 0.42384949437598785\n"
     ]
    }
   ],
   "source": [
    "#Decision Tree\n",
    "from sklearn.tree import DecisionTreeClassifier\n",
    "modeling(DecisionTreeClassifier())"
   ]
  }
 ],
 "metadata": {
  "kernelspec": {
   "display_name": "Python 3 (ipykernel)",
   "language": "python",
   "name": "python3"
  },
  "language_info": {
   "codemirror_mode": {
    "name": "ipython",
    "version": 3
   },
   "file_extension": ".py",
   "mimetype": "text/x-python",
   "name": "python",
   "nbconvert_exporter": "python",
   "pygments_lexer": "ipython3",
   "version": "3.9.7"
  }
 },
 "nbformat": 4,
 "nbformat_minor": 5
}
